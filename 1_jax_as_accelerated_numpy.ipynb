{
 "cells": [
  {
   "cell_type": "markdown",
   "metadata": {},
   "source": [
    "## 1. JAX As Accelerated NumPy\n",
    "\n",
    "- [JAX Tutorial: JAX As Accelerated NumPy](https://jax.readthedocs.io/en/latest/jax-101/01-jax-basics.html)"
   ]
  },
  {
   "cell_type": "markdown",
   "metadata": {},
   "source": [
    "### JAX NumPy 시작하기\n",
    "\n",
    "- 기본적으로 JAX는 배열 조작 프로그램의 변환을 가능하게 해주는 NumPy-like한 API\n",
    "\n",
    "- 현재로써 JAX는 accelerator로 구동 가능한 NumPy라고 생각하면 됨"
   ]
  },
  {
   "cell_type": "code",
   "execution_count": 1,
   "metadata": {},
   "outputs": [],
   "source": [
    "import jax\n",
    "import jax.numpy as jnp"
   ]
  },
  {
   "cell_type": "code",
   "execution_count": 2,
   "metadata": {},
   "outputs": [
    {
     "name": "stderr",
     "output_type": "stream",
     "text": [
      "2024-02-27 00:12:05.530858: W external/xla/xla/service/gpu/nvptx_compiler.cc:744] The NVIDIA driver's CUDA version is 12.0 which is older than the ptxas CUDA version (12.3.107). Because the driver is older than the ptxas version, XLA is disabling parallel compilation, which may slow down compilation. You should update your NVIDIA driver or use the NVIDIA-provided CUDA forward compatibility packages.\n"
     ]
    },
    {
     "name": "stdout",
     "output_type": "stream",
     "text": [
      "[0 1 2 3 4 5 6 7 8 9]\n"
     ]
    }
   ],
   "source": [
    "x = jnp.arange(10)\n",
    "print(x)"
   ]
  },
  {
   "cell_type": "markdown",
   "metadata": {},
   "source": [
    "- JAX의 가장 큰 장점은 새로이 API를 배울 필요가 없다는 것\n",
    "\n",
    "- 일반적으로 NumPy 프로그램은 np를 jnp로 대체하는 경우 JAX에서도 잘 실행됨\n",
    "\n",
    "- 몇 가지 중요한 차이점은 마지막 부분에 설명"
   ]
  },
  {
   "cell_type": "code",
   "execution_count": 3,
   "metadata": {},
   "outputs": [
    {
     "data": {
      "text/plain": [
       "Array([0, 1, 2, 3, 4, 5, 6, 7, 8, 9], dtype=int32)"
      ]
     },
     "execution_count": 3,
     "metadata": {},
     "output_type": "execute_result"
    }
   ],
   "source": [
    "x"
   ]
  },
  {
   "cell_type": "markdown",
   "metadata": {},
   "source": [
    "- JAX의 유용한 기능 중 하나는 동일한 코드를 CPU, GPU, TPU 등 다양한 백엔드에서 실행할 수 있다는 것\n",
    "\n",
    "- Technical detail\n",
    "\n",
    "    - JAX 함수가 호출될 때 해당 연산이 가능한 경우, 비동기적으로 계산될 수 있도록 accelerator로 전송됨\n",
    "\n",
    "    - 따라서, 반환된 배열은 함수가 반환되는 즉시 '채워지는(filled in)' 것은 아님\n",
    "\n",
    "    - 결과가 즉시 필요하지 않은 경우, 연산이 파이썬의 execution을 즉시 차단하지 않음\n",
    "    \n",
    "    - `block_until_ready`를 실행하거나 일반적 Python type으로 배열을 변환하지 않는 한 실제 연산 시간이 아닌 dispatch 시간만 계산됨"
   ]
  },
  {
   "cell_type": "code",
   "execution_count": 4,
   "metadata": {},
   "outputs": [
    {
     "name": "stdout",
     "output_type": "stream",
     "text": [
      "1.22 ms ± 29 µs per loop (mean ± std. dev. of 7 runs, 100 loops each)\n"
     ]
    }
   ],
   "source": [
    "long_vector = jnp.arange(int(1e7))\n",
    "%timeit jnp.dot(long_vector, long_vector).block_until_ready()"
   ]
  },
  {
   "cell_type": "markdown",
   "metadata": {},
   "source": [
    "### 첫 번째 JAX 기반 변환: `grad`\n",
    "\n",
    "- JAX의 기본 기능은 함수를 변환하는 것\n",
    "\n",
    "- 가장 일반적으로 사용되는 변환 중 하나는 ㅍ파이썬으로 작성된 수치 함수를 가져와 원래 함수의 기울기를 계산하는 `jax.grad`"
   ]
  },
  {
   "cell_type": "code",
   "execution_count": 5,
   "metadata": {},
   "outputs": [],
   "source": [
    "def sum_of_squares(x):\n",
    "    return jnp.sum(x**2)"
   ]
  },
  {
   "cell_type": "markdown",
   "metadata": {},
   "source": [
    "- `jax.grad`를 `sum_of_squares`에 적용하면 첫 번째 매개변수 `x`에 대한 `sum_of_squares`의 기울기를 반환\n",
    "\n",
    "- 그런 다음 배열에서 해당 함수를 사용해 배열의 각 요소에 대한 도함수를 반환할 수 있음"
   ]
  },
  {
   "cell_type": "code",
   "execution_count": 6,
   "metadata": {},
   "outputs": [
    {
     "name": "stdout",
     "output_type": "stream",
     "text": [
      "30.0\n",
      "[2. 4. 6. 8.]\n"
     ]
    }
   ],
   "source": [
    "sum_of_squares_dx = jax.grad(sum_of_squares)\n",
    "\n",
    "x = jnp.asarray([1.0, 2.0, 3.0, 4.0])\n",
    "\n",
    "print(sum_of_squares(x))\n",
    "print(sum_of_squares_dx(x))"
   ]
  },
  {
   "cell_type": "markdown",
   "metadata": {},
   "source": [
    "- $\\nabla$와 같이 `jax.grad`는 스칼라 출력이 있는 함수에서만 작동하며, 그렇지 않은 경우 에러 발생\n",
    "- 따라서, JAX API는 loss tensor 자체를 사용해 기울기를 계산하는 (e.g., `loss.backward()`) 다른 자동미분 라이브러리와는 상당히 다름\n",
    "- JAX API는 함수를 직접 사용해 기본적인 '수학'에 조금 더 가깝게 작동함\n",
    "\n",
    "    - 여기에 익숙해지면, loss function이 실제로 매개변수와 데이터의 '함수'이며, 수학에서와 마찬가지로 기울기를 찾을 수 있다는 점이 자연스럽게 느껴질 것\n",
    "    \n",
    "    - 이러한 방식을 사용하면 어떤 변수를 기준으로 미분할지 등을 간단히 조작할 수 있음"
   ]
  },
  {
   "cell_type": "code",
   "execution_count": 7,
   "metadata": {},
   "outputs": [],
   "source": [
    "def sum_squared_error(x, y):\n",
    "    return jnp.sum((x - y)**2)"
   ]
  },
  {
   "cell_type": "code",
   "execution_count": 8,
   "metadata": {},
   "outputs": [
    {
     "name": "stdout",
     "output_type": "stream",
     "text": [
      "[-0.20000005 -0.19999981 -0.19999981 -0.19999981]\n"
     ]
    }
   ],
   "source": [
    "sum_squared_error_dx = jax.grad(sum_squared_error)\n",
    "\n",
    "y = jnp.asarray([1.1, 2.1, 3.1, 4.1])\n",
    "\n",
    "print(sum_squared_error_dx(x, y))"
   ]
  },
  {
   "cell_type": "markdown",
   "metadata": {},
   "source": [
    "- 다른 여러 argument에 대한 기울기를 찾고 싶다면 `argnums`를 설정하면 됨"
   ]
  },
  {
   "cell_type": "code",
   "execution_count": 9,
   "metadata": {},
   "outputs": [
    {
     "data": {
      "text/plain": [
       "(Array([-0.20000005, -0.19999981, -0.19999981, -0.19999981], dtype=float32),\n",
       " Array([0.20000005, 0.19999981, 0.19999981, 0.19999981], dtype=float32))"
      ]
     },
     "metadata": {},
     "output_type": "display_data"
    }
   ],
   "source": [
    "display(jax.grad(sum_squared_error, argnums=(0, 1))(x, y)) # x와 y에 대한 편미분 값을 모두 반환"
   ]
  },
  {
   "cell_type": "markdown",
   "metadata": {},
   "source": [
    "- 그렇다면, ML 코드를 짤 때 거대한 매개변수 배열에 대해 거대한 argument list로 함수를 작성해야 할까?\n",
    "- 아니다. JAX에는 '`pytree`'라는 메커니즘이 탑재되어 있어 데이터 구조로 배열을 함께 묶을 수 있음\n",
    "- 따라서 `jax.grad`는 다음과 같이 사용할 수 있음\n",
    "\n",
    "    ```python\n",
    "    def loss_fn(params, data):\n",
    "        ...\n",
    "\n",
    "    grads = jax.grad(loss_fn)(params, data_batch)\n",
    "    ```"
   ]
  },
  {
   "cell_type": "markdown",
   "metadata": {},
   "source": [
    "### Value and Grad\n",
    "\n",
    "- Training loss를 기록하는 등 함수의 value와 gradient를 모두 찾아야 하는 경우들이 종종 있음\n",
    "- JAX에는 이를 효율적으로 수행하기 위한 변환들이 있음\n",
    "- 어떤 함수 `f`라도 다음과 같이 확인할 수 있음\n",
    "\n",
    "    ```python\n",
    "    jax.value_and_grad(f)(*xs) == (f(*(xs), jax.grad(f)(*xs)))\n",
    "    ```"
   ]
  },
  {
   "cell_type": "code",
   "execution_count": 12,
   "metadata": {},
   "outputs": [
    {
     "name": "stdout",
     "output_type": "stream",
     "text": [
      "0.039999947\n",
      "[-0.20000005 -0.19999981 -0.19999981 -0.19999981]\n"
     ]
    }
   ],
   "source": [
    "value, grad = jax.value_and_grad(sum_squared_error)(x, y)\n",
    "\n",
    "print(value)\n",
    "print(grad)"
   ]
  },
  {
   "cell_type": "markdown",
   "metadata": {},
   "source": [
    "### Auxiliary Data\n",
    "\n",
    "- 값을 기록하는 것 외에도, loss function을 계산할 때 얻은 중간 결과를 보고할 때도 있음\n",
    "\n",
    "- 그러나 일반적인 `jax.grad`를 통해 이를 시도하면 에러가 발생"
   ]
  },
  {
   "cell_type": "code",
   "execution_count": 13,
   "metadata": {},
   "outputs": [],
   "source": [
    "def squared_error_with_aux(x, y):\n",
    "    return sum_squared_error(x, y), x - y"
   ]
  },
  {
   "cell_type": "code",
   "execution_count": 14,
   "metadata": {},
   "outputs": [
    {
     "ename": "TypeError",
     "evalue": "Gradient only defined for scalar-output functions. Output was (Array(0.03999995, dtype=float32), Array([-0.10000002, -0.0999999 , -0.0999999 , -0.0999999 ], dtype=float32)).",
     "output_type": "error",
     "traceback": [
      "\u001b[0;31m---------------------------------------------------------------------------\u001b[0m",
      "\u001b[0;31mTypeError\u001b[0m                                 Traceback (most recent call last)",
      "    \u001b[0;31m[... skipping hidden 1 frame]\u001b[0m\n",
      "File \u001b[0;32m~/anaconda3/envs/jax_practice/lib/python3.11/site-packages/jax/_src/core.py:1498\u001b[0m, in \u001b[0;36mget_aval\u001b[0;34m(x)\u001b[0m\n\u001b[1;32m   1497\u001b[0m \u001b[38;5;28;01melse\u001b[39;00m:\n\u001b[0;32m-> 1498\u001b[0m   \u001b[38;5;28;01mreturn\u001b[39;00m \u001b[43mconcrete_aval\u001b[49m\u001b[43m(\u001b[49m\u001b[43mx\u001b[49m\u001b[43m)\u001b[49m\n",
      "File \u001b[0;32m~/anaconda3/envs/jax_practice/lib/python3.11/site-packages/jax/_src/core.py:1490\u001b[0m, in \u001b[0;36mconcrete_aval\u001b[0;34m(x)\u001b[0m\n\u001b[1;32m   1489\u001b[0m   \u001b[38;5;28;01mreturn\u001b[39;00m concrete_aval(x\u001b[38;5;241m.\u001b[39m__jax_array__())\n\u001b[0;32m-> 1490\u001b[0m \u001b[38;5;28;01mraise\u001b[39;00m \u001b[38;5;167;01mTypeError\u001b[39;00m(\u001b[38;5;124mf\u001b[39m\u001b[38;5;124m\"\u001b[39m\u001b[38;5;124mValue \u001b[39m\u001b[38;5;132;01m{\u001b[39;00mx\u001b[38;5;132;01m!r}\u001b[39;00m\u001b[38;5;124m with type \u001b[39m\u001b[38;5;132;01m{\u001b[39;00m\u001b[38;5;28mtype\u001b[39m(x)\u001b[38;5;132;01m}\u001b[39;00m\u001b[38;5;124m is not a valid JAX \u001b[39m\u001b[38;5;124m\"\u001b[39m\n\u001b[1;32m   1491\u001b[0m                  \u001b[38;5;124m\"\u001b[39m\u001b[38;5;124mtype\u001b[39m\u001b[38;5;124m\"\u001b[39m)\n",
      "\u001b[0;31mTypeError\u001b[0m: Value (Array(0.03999995, dtype=float32), Array([-0.10000002, -0.0999999 , -0.0999999 , -0.0999999 ], dtype=float32)) with type <class 'tuple'> is not a valid JAX type",
      "\nThe above exception was the direct cause of the following exception:\n",
      "\u001b[0;31mTypeError\u001b[0m                                 Traceback (most recent call last)",
      "Cell \u001b[0;32mIn[14], line 1\u001b[0m\n\u001b[0;32m----> 1\u001b[0m display(\u001b[43mjax\u001b[49m\u001b[38;5;241;43m.\u001b[39;49m\u001b[43mgrad\u001b[49m\u001b[43m(\u001b[49m\u001b[43msquared_error_with_aux\u001b[49m\u001b[43m)\u001b[49m\u001b[43m(\u001b[49m\u001b[43mx\u001b[49m\u001b[43m,\u001b[49m\u001b[43m \u001b[49m\u001b[43my\u001b[49m\u001b[43m)\u001b[49m)\n",
      "    \u001b[0;31m[... skipping hidden 4 frame]\u001b[0m\n",
      "File \u001b[0;32m~/anaconda3/envs/jax_practice/lib/python3.11/site-packages/jax/_src/api.py:759\u001b[0m, in \u001b[0;36m_check_scalar\u001b[0;34m(x)\u001b[0m\n\u001b[1;32m    757\u001b[0m   aval \u001b[38;5;241m=\u001b[39m core\u001b[38;5;241m.\u001b[39mget_aval(x)\n\u001b[1;32m    758\u001b[0m \u001b[38;5;28;01mexcept\u001b[39;00m \u001b[38;5;167;01mTypeError\u001b[39;00m \u001b[38;5;28;01mas\u001b[39;00m e:\n\u001b[0;32m--> 759\u001b[0m   \u001b[38;5;28;01mraise\u001b[39;00m \u001b[38;5;167;01mTypeError\u001b[39;00m(msg(\u001b[38;5;124mf\u001b[39m\u001b[38;5;124m\"\u001b[39m\u001b[38;5;124mwas \u001b[39m\u001b[38;5;132;01m{\u001b[39;00mx\u001b[38;5;132;01m}\u001b[39;00m\u001b[38;5;124m\"\u001b[39m)) \u001b[38;5;28;01mfrom\u001b[39;00m \u001b[38;5;21;01me\u001b[39;00m\n\u001b[1;32m    760\u001b[0m \u001b[38;5;28;01melse\u001b[39;00m:\n\u001b[1;32m    761\u001b[0m   \u001b[38;5;28;01mif\u001b[39;00m \u001b[38;5;28misinstance\u001b[39m(aval, ShapedArray):\n",
      "\u001b[0;31mTypeError\u001b[0m: Gradient only defined for scalar-output functions. Output was (Array(0.03999995, dtype=float32), Array([-0.10000002, -0.0999999 , -0.0999999 , -0.0999999 ], dtype=float32))."
     ]
    }
   ],
   "source": [
    "display(jax.grad(squared_error_with_aux)(x, y))"
   ]
  },
  {
   "cell_type": "markdown",
   "metadata": {},
   "source": [
    "- `jax.grad`는 스칼라 함수에만 정의되어 있고, 새로 생긴 함수는 tuple을 반환하기 때문\n",
    "\n",
    "- 그런데 중간 결과를 반환하려면 tuple이여야만 하는걸? --> `has_aux`가 있음\n",
    "\n",
    "- `has_aux`는 함수가 쌍(`(out, aux)`)을 반환한다는 것을 의미하며, `jax.grad`가 `aux`를 무시하고 마치 `out`만 반환되는 것처럼 수행"
   ]
  },
  {
   "cell_type": "code",
   "execution_count": 15,
   "metadata": {},
   "outputs": [
    {
     "data": {
      "text/plain": [
       "(Array([-0.20000005, -0.19999981, -0.19999981, -0.19999981], dtype=float32),\n",
       " Array([-0.10000002, -0.0999999 , -0.0999999 , -0.0999999 ], dtype=float32))"
      ]
     },
     "metadata": {},
     "output_type": "display_data"
    }
   ],
   "source": [
    "display(jax.grad(squared_error_with_aux, has_aux=True)(x, y))"
   ]
  },
  {
   "cell_type": "markdown",
   "metadata": {},
   "source": [
    "### NumPy와의 차이점\n",
    "\n",
    "- 가장 중요한 차이점이자, 다른 모든 차이점들의 근원은 JAX가 함수형 프로그래밍(functional programming)에서와 같이 functional-style로 설계되었다는 점\n",
    "\n",
    "- JAX가 수행하는 transformation의 종류가 함수형 프로그램에서 훨씬 더 잘 실현 가능하기 때문\n",
    "\n",
    "- JAX로 작업할 때 알아둬야 할 가장 중요한 함수형 프로그래밍의 특징은, 'side-effect'가 없는 코드를 작성해야한다는 것\n",
    "\n",
    "    - Side-effect: 출력에 나타나지 않는 함수의 모든 effect\n",
    "\n",
    "    - e.g., 배열을 제자리에서 (in-place) 수정하는것"
   ]
  },
  {
   "cell_type": "code",
   "execution_count": 17,
   "metadata": {},
   "outputs": [
    {
     "data": {
      "text/plain": [
       "array([1, 2, 3])"
      ]
     },
     "metadata": {},
     "output_type": "display_data"
    },
    {
     "data": {
      "text/plain": [
       "array([123,   2,   3])"
      ]
     },
     "metadata": {},
     "output_type": "display_data"
    }
   ],
   "source": [
    "import numpy as np\n",
    "\n",
    "x = np.array([1, 2, 3])\n",
    "display(x)\n",
    "\n",
    "def in_place_modify(x):\n",
    "    x[0] = 123\n",
    "\n",
    "in_place_modify(x)\n",
    "display(x)"
   ]
  },
  {
   "cell_type": "markdown",
   "metadata": {},
   "source": [
    "- 위처럼 side-effect 함수는 argument를 수정하지만 전혀 관련이 없는 값을 반환\n",
    "\n",
    "- JAX는 배열을 in-place로 수정하는 것을 허용하지 않음 (= immutable)"
   ]
  },
  {
   "cell_type": "code",
   "execution_count": 18,
   "metadata": {},
   "outputs": [
    {
     "ename": "TypeError",
     "evalue": "'<class 'jaxlib.xla_extension.ArrayImpl'>' object does not support item assignment. JAX arrays are immutable. Instead of ``x[idx] = y``, use ``x = x.at[idx].set(y)`` or another .at[] method: https://jax.readthedocs.io/en/latest/_autosummary/jax.numpy.ndarray.at.html",
     "output_type": "error",
     "traceback": [
      "\u001b[0;31m---------------------------------------------------------------------------\u001b[0m",
      "\u001b[0;31mTypeError\u001b[0m                                 Traceback (most recent call last)",
      "Cell \u001b[0;32mIn[18], line 1\u001b[0m\n\u001b[0;32m----> 1\u001b[0m \u001b[43min_place_modify\u001b[49m\u001b[43m(\u001b[49m\u001b[43mjnp\u001b[49m\u001b[38;5;241;43m.\u001b[39;49m\u001b[43marray\u001b[49m\u001b[43m(\u001b[49m\u001b[43mx\u001b[49m\u001b[43m)\u001b[49m\u001b[43m)\u001b[49m\n",
      "Cell \u001b[0;32mIn[17], line 7\u001b[0m, in \u001b[0;36min_place_modify\u001b[0;34m(x)\u001b[0m\n\u001b[1;32m      6\u001b[0m \u001b[38;5;28;01mdef\u001b[39;00m \u001b[38;5;21min_place_modify\u001b[39m(x):\n\u001b[0;32m----> 7\u001b[0m     \u001b[43mx\u001b[49m\u001b[43m[\u001b[49m\u001b[38;5;241;43m0\u001b[39;49m\u001b[43m]\u001b[49m \u001b[38;5;241m=\u001b[39m \u001b[38;5;241m123\u001b[39m\n",
      "File \u001b[0;32m~/anaconda3/envs/jax_practice/lib/python3.11/site-packages/jax/_src/numpy/array_methods.py:278\u001b[0m, in \u001b[0;36m_unimplemented_setitem\u001b[0;34m(self, i, x)\u001b[0m\n\u001b[1;32m    273\u001b[0m \u001b[38;5;28;01mdef\u001b[39;00m \u001b[38;5;21m_unimplemented_setitem\u001b[39m(\u001b[38;5;28mself\u001b[39m, i, x):\n\u001b[1;32m    274\u001b[0m   msg \u001b[38;5;241m=\u001b[39m (\u001b[38;5;124m\"\u001b[39m\u001b[38;5;124m'\u001b[39m\u001b[38;5;132;01m{}\u001b[39;00m\u001b[38;5;124m'\u001b[39m\u001b[38;5;124m object does not support item assignment. JAX arrays are \u001b[39m\u001b[38;5;124m\"\u001b[39m\n\u001b[1;32m    275\u001b[0m          \u001b[38;5;124m\"\u001b[39m\u001b[38;5;124mimmutable. Instead of ``x[idx] = y``, use ``x = x.at[idx].set(y)`` \u001b[39m\u001b[38;5;124m\"\u001b[39m\n\u001b[1;32m    276\u001b[0m          \u001b[38;5;124m\"\u001b[39m\u001b[38;5;124mor another .at[] method: \u001b[39m\u001b[38;5;124m\"\u001b[39m\n\u001b[1;32m    277\u001b[0m          \u001b[38;5;124m\"\u001b[39m\u001b[38;5;124mhttps://jax.readthedocs.io/en/latest/_autosummary/jax.numpy.ndarray.at.html\u001b[39m\u001b[38;5;124m\"\u001b[39m)\n\u001b[0;32m--> 278\u001b[0m   \u001b[38;5;28;01mraise\u001b[39;00m \u001b[38;5;167;01mTypeError\u001b[39;00m(msg\u001b[38;5;241m.\u001b[39mformat(\u001b[38;5;28mtype\u001b[39m(\u001b[38;5;28mself\u001b[39m)))\n",
      "\u001b[0;31mTypeError\u001b[0m: '<class 'jaxlib.xla_extension.ArrayImpl'>' object does not support item assignment. JAX arrays are immutable. Instead of ``x[idx] = y``, use ``x = x.at[idx].set(y)`` or another .at[] method: https://jax.readthedocs.io/en/latest/_autosummary/jax.numpy.ndarray.at.html"
     ]
    }
   ],
   "source": [
    "in_place_modify(jnp.array(x))"
   ]
  },
  {
   "cell_type": "markdown",
   "metadata": {},
   "source": [
    "- `jax.numpy.ndarray.at`의 index update 연산자를 통해 side-effect 없는 JAX의 방식이 있음\n",
    "\n",
    "    - 위에서 설명했듯이, old-array는 건드리지 않음 --> no side-effect\n",
    "\n",
    "- 인덱스 별 in-place 수정과 유사하지만, 이는 해당 수정 작업이 수행된 새로운 배열을 생성한다는 것에 주의"
   ]
  },
  {
   "cell_type": "code",
   "execution_count": 20,
   "metadata": {},
   "outputs": [
    {
     "data": {
      "text/plain": [
       "Array([1, 2, 3], dtype=int32)"
      ]
     },
     "metadata": {},
     "output_type": "display_data"
    },
    {
     "data": {
      "text/plain": [
       "Array([123,   2,   3], dtype=int32)"
      ]
     },
     "metadata": {},
     "output_type": "display_data"
    }
   ],
   "source": [
    "def jax_in_place_modify(x):\n",
    "    return x.at[0].set(123)\n",
    "\n",
    "y = jnp.array([1, 2, 3])\n",
    "display(y)\n",
    "\n",
    "y = jax_in_place_modify(y)\n",
    "display(y)"
   ]
  },
  {
   "cell_type": "markdown",
   "metadata": {},
   "source": [
    "- Side-effect가 없는 코드를 functionally-pure 또는 pure라고 부르기도 함\n",
    "\n",
    "- Pure 버전 코드는 엄밀히 말하자면 새로운 배열을 생성하기 때문에 효율성이 떨어짐\n",
    "\n",
    "- 그러나, JAX의 연산은 보통 `jax.jit`이라는 또 다른 변환을 사용하여 실행되기 전에 컴파일 됨\n",
    "\n",
    "    - 인덱스 업데이트 연산자를 사용해 'in-place'로 수정한 후, 이전 배열을 사용하지 않는다면 컴파일러가 알아서 in-place 수정으로 컴파일할 수 있음을 인식해 결국은 효율화에 성공함\n",
    "\n",
    "- 물론, side-effectual한 Python 코드와 functionally-pure한 JAX의 코드를 혼합할 수도 있음\n",
    "\n",
    "    - 그러나, 경험적으로 JAX로 변환하려는 함수는 side-effect를 피하는 것이 좋고, JAX primitive는 이를 지향함"
   ]
  },
  {
   "cell_type": "markdown",
   "metadata": {},
   "source": [
    "### 첫 번째 JAX 기반 반복분"
   ]
  },
  {
   "cell_type": "markdown",
   "metadata": {},
   "source": [
    "- 간단한 선형 회귀 코드로 시작\n",
    "\n",
    "- 수식은 $y = w_{\\text{true}}x + b_{\\text{true}} + \\epsilon$"
   ]
  },
  {
   "cell_type": "code",
   "execution_count": 24,
   "metadata": {},
   "outputs": [
    {
     "data": {
      "image/png": "[encoded data removed]",
      "text/plain": [
       "<Figure size 640x480 with 1 Axes>"
      ]
     },
     "metadata": {},
     "output_type": "display_data"
    }
   ],
   "source": [
    "import numpy as np\n",
    "import matplotlib.pyplot as plt\n",
    "\n",
    "xs = np.random.normal(size=(100,))\n",
    "noise = np.random.normal(scale=0.1, size=(100,))\n",
    "ys = xs * 3 - 1 + noise\n",
    "\n",
    "plt.scatter(xs, ys)\n",
    "plt.show()"
   ]
  },
  {
   "cell_type": "markdown",
   "metadata": {},
   "source": [
    "- 따라서, 모델은 $\\hat{y}(x;\\theta) = wx + b$가 되며, $w$와 $b$를 모두 저장하기 위해 단일 배열인 `theta = [w, b]`를 사용"
   ]
  },
  {
   "cell_type": "code",
   "execution_count": 25,
   "metadata": {},
   "outputs": [],
   "source": [
    "def model(theta, x):\n",
    "    \"\"\"Computes wx + b on a batch of input x.\"\"\"\n",
    "    w, b = theta\n",
    "    return w * x + b"
   ]
  },
  {
   "cell_type": "markdown",
   "metadata": {},
   "source": [
    "- 그렇다면, loss function은 $J(x,y;\\theta) = (\\hat{y} - y)^2$가 됨"
   ]
  },
  {
   "cell_type": "code",
   "execution_count": 26,
   "metadata": {},
   "outputs": [],
   "source": [
    "def loss_fn(theta, x, y):\n",
    "    prediction = model(theta, x)\n",
    "    return jnp.mean((prediction - y)**2)"
   ]
  },
  {
   "cell_type": "markdown",
   "metadata": {},
   "source": [
    "- Loss function을 최적화하기 위해 gradient descent를 사용\n",
    "\n",
    "    $$\n",
    "    \\theta_\\text{new} = \\theta - 0.1(\\nabla_\\theta J)(x,y;\\theta)\n",
    "    $$"
   ]
  },
  {
   "cell_type": "code",
   "execution_count": 27,
   "metadata": {},
   "outputs": [],
   "source": [
    "def update(theta, x, y, lr=0.1):\n",
    "    return theta - lr * jax.grad(loss_fn)(theta, x, y)"
   ]
  },
  {
   "cell_type": "markdown",
   "metadata": {},
   "source": [
    "- 위에서 설명했던 JAX의 기능적 특성 (in-place 수정이 불가하다는 것) 상, 매 단계 호출되는 `update()` 함수를 정의해 현재 매개변수를 입력으로 받고, 새로운 매개변수를 반환해야 함\n",
    "\n",
    "- 그 다음, 이 함수는 효율성을 극대화하기 위해 JIT 컴파일을 거칠 수 있음\n",
    "\n",
    "    - `update()` 함수 위에 데코레이터를 이용해 `@jax.jit`을 불러올 수도 있음"
   ]
  },
  {
   "cell_type": "code",
   "execution_count": 29,
   "metadata": {},
   "outputs": [
    {
     "name": "stdout",
     "output_type": "stream",
     "text": [
      "w: 2.99, b: -0.99\n"
     ]
    },
    {
     "data": {
      "image/png": "[encoded data removed]",
      "text/plain": [
       "<Figure size 640x480 with 1 Axes>"
      ]
     },
     "metadata": {},
     "output_type": "display_data"
    }
   ],
   "source": [
    "theta = jnp.array([1., 1.])\n",
    "\n",
    "for _ in range(1000):\n",
    "    theta = update(theta, xs, ys)\n",
    "\n",
    "plt.scatter(xs, ys)\n",
    "plt.plot(xs, model(theta, xs), color='red')\n",
    "\n",
    "w, b = theta\n",
    "print(f\"w: {w:<.2f}, b: {b:<.2f}\")"
   ]
  },
  {
   "cell_type": "markdown",
   "metadata": {},
   "source": [
    "- 위의 기본 recipe는 JAX에서 구현되는 거의 모든 training loop의 기초가 됨\n",
    "\n",
    "- 이 예제와 실제 trainint loop의 가장 큰 차이점은 모델의 단순성\n",
    "\n",
    "    - 단일 배열로 모든 파라미터를 저장할 수 있음\n",
    "\n",
    "- 이후 pytree 가이드에서는 더 많은 파라미터를 관리하는 방법을 다룰 예정이며, 해당 부분을 자유롭게 건너 뛰고 JAX에서 간단한 MLP를 정의하고 훈련하는 방법을 확인해도 됨"
   ]
  },
  {
   "cell_type": "code",
   "execution_count": null,
   "metadata": {},
   "outputs": [],
   "source": []
  }
 ],
 "metadata": {
  "kernelspec": {
   "display_name": "jax_practice",
   "language": "python",
   "name": "python3"
  },
  "language_info": {
   "codemirror_mode": {
    "name": "ipython",
    "version": 3
   },
   "file_extension": ".py",
   "mimetype": "text/x-python",
   "name": "python",
   "nbconvert_exporter": "python",
   "pygments_lexer": "ipython3",
   "version": "3.11.8"
  }
 },
 "nbformat": 4,
 "nbformat_minor": 2
}
